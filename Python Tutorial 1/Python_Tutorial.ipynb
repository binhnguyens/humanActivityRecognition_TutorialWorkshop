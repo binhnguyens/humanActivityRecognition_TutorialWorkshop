{
 "cells": [
  {
   "cell_type": "markdown",
   "metadata": {},
   "source": [
    "# Python tutorial for BME 808 students\n",
    "## February 8, 2021\n",
    "<br>\n",
    "The goal of this is to teach fundamental topics of Python\n",
    "<br>\n",
    "https://machinelearningmastery.com/how-to-develop-rnn-models-for-human-activity-recognition-time-series-classification/"
   ]
  },
  {
   "cell_type": "markdown",
   "metadata": {},
   "source": [
    "# Methods\n",
    "We will use Panda and Matplotlib to save the data into tables and to plot, respectively\n",
    "\n",
    "### Dataframe\n",
    "\n",
    "Panda uses dataframes which is defined as simply represents a table of data with rows and columns. The list of columns and the types in those columns the schema. A simple analogy would be a spreadsheet with named columns."
   ]
  },
  {
   "cell_type": "code",
   "execution_count": null,
   "metadata": {},
   "outputs": [],
   "source": [
    "import pandas as pd\n",
    "import matplotlib.pyplot as plt"
   ]
  },
  {
   "cell_type": "markdown",
   "metadata": {},
   "source": [
    "# Load data"
   ]
  },
  {
   "cell_type": "code",
   "execution_count": null,
   "metadata": {},
   "outputs": [],
   "source": [
    "import os\n",
    "cwd = os.getcwd()\n",
    "print (cwd)"
   ]
  },
  {
   "cell_type": "code",
   "execution_count": null,
   "metadata": {},
   "outputs": [],
   "source": [
    "path = '/UCI HAR Dataset/train/Inertial Signals/' # Change this\n",
    "filename = 'body_acc_x_train.txt' # Keep this\n",
    "f = cwd + path + filename # Maybe change this\n",
    "print (f)"
   ]
  },
  {
   "cell_type": "code",
   "execution_count": null,
   "metadata": {},
   "outputs": [],
   "source": [
    "df = pd.read_csv (f,header=None, delim_whitespace=True)\n",
    "\n",
    "print (\"This is the first 5 windows: \", df.head())\n"
   ]
  },
  {
   "cell_type": "code",
   "execution_count": null,
   "metadata": {},
   "outputs": [],
   "source": [
    "print (\"This is the first 5 samples of the window\", df[0][0:5])"
   ]
  },
  {
   "cell_type": "code",
   "execution_count": null,
   "metadata": {},
   "outputs": [],
   "source": [
    "plt.plot (df.iloc[0])"
   ]
  },
  {
   "cell_type": "markdown",
   "metadata": {},
   "source": [
    "# Getting comfortable\n",
    "Now let's load the subject number and data label"
   ]
  },
  {
   "cell_type": "code",
   "execution_count": null,
   "metadata": {},
   "outputs": [],
   "source": [
    "path = '/UCI HAR Dataset/train/'\n",
    "filename = 'subject_train.txt'\n",
    "f = cwd + path + filename\n",
    "\n",
    "subjects = pd.read_csv (f,header=None, delim_whitespace=True)\n",
    "subjects"
   ]
  },
  {
   "cell_type": "code",
   "execution_count": null,
   "metadata": {},
   "outputs": [],
   "source": [
    "path = '/UCI HAR Dataset/train/'\n",
    "filename = 'y_train.txt'\n",
    "f = cwd + path + filename\n",
    "\n",
    "label = pd.read_csv (f,header=None, delim_whitespace=True)\n",
    "label"
   ]
  },
  {
   "cell_type": "markdown",
   "metadata": {},
   "source": [
    "# Legend \n",
    "1 WALKING\n",
    "\n",
    "2 WALKING_UPSTAIRS\n",
    "\n",
    "3 WALKING_DOWNSTAIRS\n",
    "\n",
    "4 SITTING\n",
    "\n",
    "5 STANDING\n",
    "\n",
    "6 LAYING\n"
   ]
  },
  {
   "cell_type": "code",
   "execution_count": null,
   "metadata": {},
   "outputs": [],
   "source": [
    "print ('Label is: ',label.iloc[7351][0])\n",
    "print ('Subject is: ', subjects.iloc[7351][0])"
   ]
  },
  {
   "cell_type": "code",
   "execution_count": null,
   "metadata": {},
   "outputs": [],
   "source": [
    "plt.plot (df.iloc[7351])\n",
    "plt.title ('Subject %d doing activity %d' %(subjects.iloc[7351][0], label.iloc[7351][0]))\n",
    "plt.xlabel ('Sample')\n",
    "plt.ylabel ('Amplitude')"
   ]
  },
  {
   "cell_type": "markdown",
   "metadata": {},
   "source": [
    "# Feature extraction"
   ]
  },
  {
   "cell_type": "markdown",
   "metadata": {},
   "source": [
    "Now we will try to get the features, we will focus on the average, var, max and min \n",
    "\n",
    "Recall our feature table\n",
    "\n",
    "What will be the vector size of the features?\n",
    "\n",
    "Hint: We have 7352 samples and 128 samples per window"
   ]
  },
  {
   "cell_type": "markdown",
   "metadata": {},
   "source": [
    "# Method\n",
    "We will use numpy\n",
    "\n",
    "Numpy is a mathmetical tool for Python \n",
    "\n",
    "To learn more, use w3 school or numpy documentation\n",
    "\n",
    "When wanting to find something, google something along the lines of \n",
    "\"Numpy find mean\"\n",
    "\n",
    "### Array\n",
    "An array is a container object that holds a fixed number of values of a single type. The length of an array is established when the array is created"
   ]
  },
  {
   "cell_type": "code",
   "execution_count": null,
   "metadata": {},
   "outputs": [],
   "source": [
    "import numpy as np"
   ]
  },
  {
   "cell_type": "code",
   "execution_count": null,
   "metadata": {},
   "outputs": [],
   "source": [
    "df_avg = np.mean (df.iloc[0])\n",
    "print (df_avg)"
   ]
  },
  {
   "cell_type": "code",
   "execution_count": null,
   "metadata": {},
   "outputs": [],
   "source": [
    "df_avg = np.mean (df,axis=1)\n",
    "df_avg.head()"
   ]
  },
  {
   "cell_type": "code",
   "execution_count": null,
   "metadata": {},
   "outputs": [],
   "source": [
    "df_var = np.var(df,axis=1)\n",
    "df_var.head()"
   ]
  },
  {
   "cell_type": "code",
   "execution_count": null,
   "metadata": {},
   "outputs": [],
   "source": [
    "df_max = np.max(df,axis=1)\n",
    "df_max.head()"
   ]
  },
  {
   "cell_type": "code",
   "execution_count": null,
   "metadata": {},
   "outputs": [],
   "source": [
    "df_min = np.min(df,axis=1)\n",
    "df_min.head()"
   ]
  },
  {
   "cell_type": "code",
   "execution_count": null,
   "metadata": {},
   "outputs": [],
   "source": [
    "feat_vec = np.stack([df_avg, df_var, df_max, df_min], axis=1)"
   ]
  },
  {
   "cell_type": "code",
   "execution_count": null,
   "metadata": {},
   "outputs": [],
   "source": [
    "print (feat_vec)\n",
    "print (feat_vec.shape)"
   ]
  },
  {
   "cell_type": "markdown",
   "metadata": {},
   "source": [
    "To make sure we're doing this right...."
   ]
  },
  {
   "cell_type": "code",
   "execution_count": null,
   "metadata": {},
   "outputs": [],
   "source": [
    "print (df_avg [0:3])\n",
    "print (df_var [0:3])\n",
    "print (df_max [0:3])\n",
    "print (df_min [0:3])"
   ]
  },
  {
   "cell_type": "markdown",
   "metadata": {},
   "source": [
    "Now we have our feature matrix \n",
    "Sample x Features where samples is row and features is the column"
   ]
  },
  {
   "cell_type": "markdown",
   "metadata": {},
   "source": [
    "# Machine learning \n",
    "\n",
    "Trivial question: Will this model do well? What accuracy do you think you will get?"
   ]
  },
  {
   "cell_type": "markdown",
   "metadata": {},
   "source": [
    "## Method\n",
    "We will use a Random Forest Classifier\n",
    "\n",
    "https://scikit-learn.org/stable/modules/generated/sklearn.ensemble.RandomForestClassifier.html\n",
    "\n",
    "https://scikit-learn.org/stable/modules/generated/sklearn.model_selection.train_test_split.html"
   ]
  },
  {
   "cell_type": "code",
   "execution_count": null,
   "metadata": {},
   "outputs": [],
   "source": [
    "from sklearn.ensemble import RandomForestClassifier\n",
    "from sklearn.model_selection import train_test_split\n",
    "from sklearn.metrics import accuracy_score"
   ]
  },
  {
   "cell_type": "markdown",
   "metadata": {},
   "source": [
    "### Train and test split"
   ]
  },
  {
   "cell_type": "code",
   "execution_count": null,
   "metadata": {},
   "outputs": [],
   "source": [
    "# We already have our X and Y, we now set them as new variables for the testing component\n",
    "X = feat_vec\n",
    "y = label\n",
    "\n",
    "X_train, X_test, y_train, y_test = train_test_split(\n",
    "    X, y, test_size=0.3, random_state=42)"
   ]
  },
  {
   "cell_type": "code",
   "execution_count": null,
   "metadata": {},
   "outputs": [],
   "source": [
    "clf = RandomForestClassifier(max_depth=2, random_state=0)\n",
    "clf.fit(X_train, y_train)"
   ]
  },
  {
   "cell_type": "code",
   "execution_count": null,
   "metadata": {},
   "outputs": [],
   "source": [
    "y_pred = clf.predict (X_test)\n",
    "acc = accuracy_score(y_test, y_pred)\n",
    "print ('The accuracy is %f%%' %(acc*100))"
   ]
  },
  {
   "cell_type": "markdown",
   "metadata": {},
   "source": [
    "# Summary \n",
    "\n",
    "We learned\n",
    "\n",
    "- To open a file using Panda\n",
    "- Extract features using Numpy\n",
    "- Creating the feature vec using Numpy\n",
    "- Used DT from Scikit\n",
    "\n",
    "Next week\n",
    "- Try different features\n",
    "- Try different models (LDA, Naives bayes, Logistic Regression)\n",
    "- Try Neural networks \n",
    "- Try another dataset"
   ]
  },
  {
   "cell_type": "code",
   "execution_count": null,
   "metadata": {},
   "outputs": [],
   "source": []
  }
 ],
 "metadata": {
  "kernelspec": {
   "display_name": "Python 3",
   "language": "python",
   "name": "python3"
  },
  "language_info": {
   "codemirror_mode": {
    "name": "ipython",
    "version": 3
   },
   "file_extension": ".py",
   "mimetype": "text/x-python",
   "name": "python",
   "nbconvert_exporter": "python",
   "pygments_lexer": "ipython3",
   "version": "3.8.5"
  }
 },
 "nbformat": 4,
 "nbformat_minor": 4
}
